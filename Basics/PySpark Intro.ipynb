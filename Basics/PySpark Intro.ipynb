{
 "cells": [
  {
   "cell_type": "markdown",
   "id": "3956b644-ff54-4ae0-8a44-d4ede96692ab",
   "metadata": {},
   "source": [
    "# What is PySpark?"
   ]
  },
  {
   "cell_type": "markdown",
   "id": "c30490d0-70c4-4ac8-9da0-8e06f5c2f950",
   "metadata": {},
   "source": [
    "#### PySpark is Python API for Apache Spark, which is open-source, distributed computing framework designed for big data processing and analytics. \n",
    "\n",
    "#### This leverages the power of spark for handling large datasets and performing complex operations in a distributed environment.  "
   ]
  },
  {
   "cell_type": "markdown",
   "id": "70043509-7f17-4db1-a3ed-ef39f42a30db",
   "metadata": {},
   "source": [
    "### Setting up Spark environment"
   ]
  },
  {
   "cell_type": "markdown",
   "id": "d7b3aa52-1a44-4e4b-8597-33618b0cafb2",
   "metadata": {},
   "source": [
    "The starting point for any Spark application is creating a SparkSession. This session is the single entry point for reading data, creating DataFrames, and working with Spark’s functionality."
   ]
  },
  {
   "cell_type": "code",
   "execution_count": 6,
   "id": "bd376612-eaca-4316-9dae-f4595a734e24",
   "metadata": {},
   "outputs": [],
   "source": [
    "# pip install pyspark"
   ]
  },
  {
   "cell_type": "code",
   "execution_count": 10,
   "id": "deb5b4ed-63ba-4721-8ab0-8a1f5b1fda78",
   "metadata": {},
   "outputs": [],
   "source": [
    "import warnings\n",
    "from pyspark.sql import SparkSession"
   ]
  },
  {
   "cell_type": "code",
   "execution_count": 11,
   "id": "f35fab07-9c27-4a3d-b045-b86d800e565b",
   "metadata": {},
   "outputs": [],
   "source": [
    "warnings.filterwarnings(\"ignore\")"
   ]
  },
  {
   "cell_type": "code",
   "execution_count": 12,
   "id": "45c70e2f-3a26-40d1-beae-4b0e80b5ab77",
   "metadata": {},
   "outputs": [
    {
     "data": {
      "text/html": [
       "\n",
       "            <div>\n",
       "                <p><b>SparkSession - in-memory</b></p>\n",
       "                \n",
       "        <div>\n",
       "            <p><b>SparkContext</b></p>\n",
       "\n",
       "            <p><a href=\"http://192.168.1.34:4040\">Spark UI</a></p>\n",
       "\n",
       "            <dl>\n",
       "              <dt>Version</dt>\n",
       "                <dd><code>v3.5.4</code></dd>\n",
       "              <dt>Master</dt>\n",
       "                <dd><code>local[*]</code></dd>\n",
       "              <dt>AppName</dt>\n",
       "                <dd><code>SparkBasics</code></dd>\n",
       "            </dl>\n",
       "        </div>\n",
       "        \n",
       "            </div>\n",
       "        "
      ],
      "text/plain": [
       "<pyspark.sql.session.SparkSession at 0x107d16350>"
      ]
     },
     "execution_count": 12,
     "metadata": {},
     "output_type": "execute_result"
    }
   ],
   "source": [
    "spark = SparkSession.builder.appName(\"SparkBasics\").getOrCreate()\n",
    "spark"
   ]
  },
  {
   "cell_type": "markdown",
   "id": "550f11fe-4636-42cd-9950-0d88e6ba4a97",
   "metadata": {},
   "source": [
    "SparkSession: It encapsulates your connection to a Spark cluster.\n",
    "\n",
    "builder: This is a factory for constructing your SparkSession.\n",
    "\n",
    "appName: This gives your application a name that will show up in Spark’s UI.\n",
    "\n",
    "getOrCreate(): It creates a new session if none exists or returns an existing one."
   ]
  },
  {
   "cell_type": "markdown",
   "id": "65d6ff83-445e-4c7d-b97b-113d16444106",
   "metadata": {},
   "source": [
    "### Loading data into Dataframe"
   ]
  },
  {
   "cell_type": "markdown",
   "id": "1a17a1d8-4c1a-488e-8946-f3b5452e6e56",
   "metadata": {},
   "source": [
    "spark.read: Initiates the DataFrameReader.\n",
    "\n",
    "option(\"header\", True): Tells Spark that the first line contains column names.\n",
    "\n",
    "csv(\"path/to/data.csv\"): Loads the CSV file; you can adjust parameters for other data sources.\n",
    "\n",
    "show(5): Displays the first five rows.\n",
    "\n",
    "printSchema(): Outputs the DataFrame schema to help validate the data types."
   ]
  },
  {
   "cell_type": "code",
   "execution_count": 14,
   "id": "58c323d3-8851-4939-b7fd-ba61ef1c99fa",
   "metadata": {},
   "outputs": [],
   "source": [
    "sample_df = spark.read.option(\"header\",True).csv(\"../sample_data/spotify.csv\")"
   ]
  },
  {
   "cell_type": "code",
   "execution_count": 17,
   "id": "39ad8dc6-f40e-4251-980c-3890e264dc77",
   "metadata": {},
   "outputs": [
    {
     "name": "stdout",
     "output_type": "stream",
     "text": [
      "root\n",
      " |-- id: string (nullable = true)\n",
      " |-- name: string (nullable = true)\n",
      " |-- artists: string (nullable = true)\n",
      " |-- duration_ms: string (nullable = true)\n",
      " |-- release_date: string (nullable = true)\n",
      " |-- year: string (nullable = true)\n",
      " |-- acousticness: string (nullable = true)\n",
      " |-- danceability: string (nullable = true)\n",
      " |-- energy: string (nullable = true)\n",
      " |-- instrumentalness: string (nullable = true)\n",
      " |-- liveness: string (nullable = true)\n",
      " |-- loudness: string (nullable = true)\n",
      " |-- speechiness: string (nullable = true)\n",
      " |-- tempo: string (nullable = true)\n",
      " |-- valence: string (nullable = true)\n",
      " |-- mode: string (nullable = true)\n",
      " |-- key: string (nullable = true)\n",
      " |-- popularity: string (nullable = true)\n",
      " |-- explicit: string (nullable = true)\n",
      "\n"
     ]
    }
   ],
   "source": [
    "sample_df.printSchema()"
   ]
  },
  {
   "cell_type": "code",
   "execution_count": 18,
   "id": "da4c7d24-49a4-4dc5-9866-c5c7fba4b55b",
   "metadata": {},
   "outputs": [
    {
     "name": "stdout",
     "output_type": "stream",
     "text": [
      "+--------------------+--------------------+--------------------+-----------+------------+----+------------+------------+------+----------------+--------+--------+-----------+-------+-------+----+---+----------+--------+\n",
      "|                  id|                name|             artists|duration_ms|release_date|year|acousticness|danceability|energy|instrumentalness|liveness|loudness|speechiness|  tempo|valence|mode|key|popularity|explicit|\n",
      "+--------------------+--------------------+--------------------+-----------+------------+----+------------+------------+------+----------------+--------+--------+-----------+-------+-------+----+---+----------+--------+\n",
      "|6KbQ3uYMLKb5jDxLF...|Singende Bataillo...| ['Carl Woitschach']|     158648|        1928|1928|       0.995|       0.708| 0.195|           0.563|   0.151| -12.428|     0.0506|118.469|  0.779|   1| 10|         0|       0|\n",
      "|6KuQTIu1KoTTkLXKr...|Fantasiestücke, O...|['Robert Schumann...|     282133|        1928|1928|       0.994|       0.379|0.0135|           0.901|  0.0763| -28.454|     0.0462| 83.972| 0.0767|   1|  8|         0|       0|\n",
      "+--------------------+--------------------+--------------------+-----------+------------+----+------------+------------+------+----------------+--------+--------+-----------+-------+-------+----+---+----------+--------+\n",
      "only showing top 2 rows\n",
      "\n"
     ]
    }
   ],
   "source": [
    "sample_df.show(2)"
   ]
  },
  {
   "cell_type": "code",
   "execution_count": null,
   "id": "c8b75114-ad67-4337-b2e8-cc1c7420992e",
   "metadata": {},
   "outputs": [],
   "source": []
  }
 ],
 "metadata": {
  "kernelspec": {
   "display_name": "Python 3 (ipykernel)",
   "language": "python",
   "name": "python3"
  },
  "language_info": {
   "codemirror_mode": {
    "name": "ipython",
    "version": 3
   },
   "file_extension": ".py",
   "mimetype": "text/x-python",
   "name": "python",
   "nbconvert_exporter": "python",
   "pygments_lexer": "ipython3",
   "version": "3.10.0"
  }
 },
 "nbformat": 4,
 "nbformat_minor": 5
}
